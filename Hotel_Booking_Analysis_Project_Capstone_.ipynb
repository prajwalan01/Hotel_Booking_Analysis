{
  "nbformat": 4,
  "nbformat_minor": 0,
  "metadata": {
    "colab": {
      "private_outputs": true,
      "provenance": [],
      "collapsed_sections": [
        "PH-0ReGfmX4f",
        "mDgbUHAGgjLW",
        "JcMwzZxoAimU",
        "8G2x9gOozGDZ",
        "gIfDvo9L0UH2"
      ],
      "include_colab_link": true
    },
    "kernelspec": {
      "name": "python3",
      "display_name": "Python 3"
    },
    "language_info": {
      "name": "python"
    }
  },
  "cells": [
    {
      "cell_type": "markdown",
      "metadata": {
        "id": "view-in-github",
        "colab_type": "text"
      },
      "source": [
        "<a href=\"https://colab.research.google.com/github/prajwalan01/Hotel_Booking_Analysis/blob/main/Hotel_Booking_Analysis_Project_Capstone_.ipynb\" target=\"_parent\"><img src=\"https://colab.research.google.com/assets/colab-badge.svg\" alt=\"Open In Colab\"/></a>"
      ]
    },
    {
      "cell_type": "markdown",
      "source": [
        "# **Project Name* - Hotel Booking Analysis*    -\n",
        "\n"
      ],
      "metadata": {
        "id": "vncDsAP0Gaoa"
      }
    },
    {
      "cell_type": "markdown",
      "source": [
        "##### **Project Type**    - EDA\n",
        "##### **Contribution**    - Team\n",
        "##### **Team Member 1 -*Rushikesh Halkanche*\n",
        "##### **Team Member 2 -*Prajwal Andure*\n"
      ],
      "metadata": {
        "id": "beRrZCGUAJYm"
      }
    },
    {
      "cell_type": "markdown",
      "source": [
        "# **Project Summary -**"
      ],
      "metadata": {
        "id": "FJNUwmbgGyua"
      }
    },
    {
      "cell_type": "markdown",
      "source": [
        "\n",
        "In this Project we began to explore the dataset in which Hotel Booking comprises of two type of hotels i.e City Hotel and Resort Hotel.\n",
        "In this dataset there are 119390 rows and 32 columns.\n",
        "All the columns are divided into three dtype - Object,Float & Int\n",
        "This Dataset does have duplicate as well as null values. There are total of 31994 duplicate values and 4 columns have missing values.\n",
        "the maximum number of missing values are from \"company\" column then followed by \"Agent\", \"Country\" and \"Children\" columns. the \"children\" column consists of only 4 null values while \"company\" column consist of 112593 null values. the total rows are 119390 and columns are 32.\n",
        "In this project we have divide the data manipulation workflow into three different categories i.e Data collection, Data cleaning and manipulation and EDA.\n",
        "In moving further we have used various basic function and attributes i.e Data collections first step to find different columns which is done by using various method like Head(),tail(),info(),describe(),columns(),and some others method used for data collection.\n",
        "In this dataset there are both duplicate and missing values available. so we have to deal with that and as a result we have replaced the null and missing values and also have droped the duplicate values.\n",
        "The further we converted the datatype of columns into appropriate datatype. we also added some columns. this dataset was also containing duplicate values so we dropped this.\n",
        "We have found there were some rows in which values of adults, babies and children was 0 so this simply means there were no guests as 0 indicate presence of none. so there were no bookings made. as a result, we simply dropped that rows where combining values for adults, babies, children columns was 0.\n",
        "The datatype of 'reservation_status_date' column was object type so it was changed to date type format for better use. there were two new columns that was added, one is 'total_people' and other is 'total_stay'.\n",
        "Before visualizing any type of data from the data set we need to do data wrangling so for that we have to checked null value of the columns so after completing the process of data visualizing we move to data visulizion part"
      ],
      "metadata": {
        "id": "F6v_1wHtG2nS"
      }
    },
    {
      "cell_type": "markdown",
      "source": [
        "# **GitHub Link -**"
      ],
      "metadata": {
        "id": "w6K7xa23Elo4"
      }
    },
    {
      "cell_type": "markdown",
      "source": [
        "https://github.com/Rushikeshhalkanche"
      ],
      "metadata": {
        "id": "h1o69JH3Eqqn"
      }
    },
    {
      "cell_type": "markdown",
      "source": [
        "# **Problem Statement**\n"
      ],
      "metadata": {
        "id": "yQaldy8SH6Dl"
      }
    },
    {
      "cell_type": "markdown",
      "source": [
        "The objective of this project is to analyze hotel booking data to gain insights and make informed decisions. The dataset contains information about hotel bookings, including details about the guests, booking channels, and stay duration. The primary goals are:\n",
        "\n",
        "Demand Forecasting: Predict the future demand for hotel bookings by analyzing historical booking data. This will help hotels optimize their pricing strategies and resource allocation.\n",
        "\n",
        "Cancellation Prediction: Build a model to predict the likelihood of a booking being canceled. This will enable hotels to manage their inventory more effectively and reduce revenue loss due to cancellations"
      ],
      "metadata": {
        "id": "DpeJGUA3kjGy"
      }
    },
    {
      "cell_type": "markdown",
      "source": [
        "#### **Define Your Business Objective?**"
      ],
      "metadata": {
        "id": "PH-0ReGfmX4f"
      }
    },
    {
      "cell_type": "markdown",
      "source": [
        "Discovering the important factors and that govern booking and explore and analysis the data for business output."
      ],
      "metadata": {
        "id": "PhDvGCAqmjP1"
      }
    },
    {
      "cell_type": "markdown",
      "source": [
        "# **General Guidelines** : -  "
      ],
      "metadata": {
        "id": "mDgbUHAGgjLW"
      }
    },
    {
      "cell_type": "markdown",
      "source": [
        "1.   Well-structured, formatted, and commented code is required.\n",
        "2.   Exception Handling, Production Grade Code & Deployment Ready Code will be a plus. Those students will be awarded some additional credits.\n",
        "     \n",
        "     The additional credits will have advantages over other students during Star Student selection.\n",
        "       \n",
        "             [ Note: - Deployment Ready Code is defined as, the whole .ipynb notebook should be executable in one go\n",
        "                       without a single error logged. ]\n",
        "\n",
        "3.   Each and every logic should have proper comments.\n",
        "4. You may add as many number of charts you want. Make Sure for each and every chart the following format should be answered.\n",
        "        \n",
        "\n",
        "```\n",
        "# Chart visualization code\n",
        "```\n",
        "            \n",
        "\n",
        "*   Why did you pick the specific chart?\n",
        "*   What is/are the insight(s) found from the chart?\n",
        "* Will the gained insights help creating a positive business impact?\n",
        "Are there any insights that lead to negative growth? Justify with specific reason.\n",
        "\n",
        "5. You have to create at least 20 logical & meaningful charts having important insights.\n",
        "\n",
        "\n",
        "[ Hints : - Do the Vizualization in  a structured way while following \"UBM\" Rule.\n",
        "\n",
        "U - Univariate Analysis,\n",
        "\n",
        "B - Bivariate Analysis (Numerical - Categorical, Numerical - Numerical, Categorical - Categorical)\n",
        "\n",
        "M - Multivariate Analysis\n",
        " ]\n",
        "\n",
        "\n",
        "\n"
      ],
      "metadata": {
        "id": "ZrxVaUj-hHfC"
      }
    },
    {
      "cell_type": "markdown",
      "source": [
        "# ***Let's Begin !***"
      ],
      "metadata": {
        "id": "O_i_v8NEhb9l"
      }
    },
    {
      "cell_type": "markdown",
      "source": [
        "## ***1. Know Your Data***"
      ],
      "metadata": {
        "id": "HhfV-JJviCcP"
      }
    },
    {
      "cell_type": "markdown",
      "source": [
        "### Import Libraries"
      ],
      "metadata": {
        "id": "Y3lxredqlCYt"
      }
    },
    {
      "cell_type": "code",
      "source": [
        "import pandas as pd\n",
        "import numpy as np\n",
        "import matplotlib.pyplot as plt\n",
        "import seaborn as sns\n",
        "from datetime import datetime\n",
        "import folium\n",
        "import plotly.express as px\n",
        "%matplotlib inline"
      ],
      "metadata": {
        "id": "M8Vqi-pPk-HR"
      },
      "execution_count": null,
      "outputs": []
    },
    {
      "cell_type": "code",
      "source": [
        "from google.colab import drive\n",
        "drive.mount('/content/drive')"
      ],
      "metadata": {
        "id": "9b-0cywaanWq"
      },
      "execution_count": null,
      "outputs": []
    },
    {
      "cell_type": "markdown",
      "source": [
        "### Dataset Loading"
      ],
      "metadata": {
        "id": "3RnN4peoiCZX"
      }
    },
    {
      "cell_type": "code",
      "source": [
        "ht_df = pd.read_csv('/content/Hotel Bookings.csv')"
      ],
      "metadata": {
        "id": "4CkvbW_SlZ_R"
      },
      "execution_count": null,
      "outputs": []
    },
    {
      "cell_type": "markdown",
      "source": [
        "### Dataset First View"
      ],
      "metadata": {
        "id": "x71ZqKXriCWQ"
      }
    },
    {
      "cell_type": "code",
      "source": [
        "ht_df"
      ],
      "metadata": {
        "id": "LWNFOSvLl09H"
      },
      "execution_count": null,
      "outputs": []
    },
    {
      "cell_type": "code",
      "source": [
        "ht_df.head()"
      ],
      "metadata": {
        "id": "ZJyJ7DUUbmec"
      },
      "execution_count": null,
      "outputs": []
    },
    {
      "cell_type": "code",
      "source": [
        "ht_df.tail()"
      ],
      "metadata": {
        "id": "4KISBhP2bsXV"
      },
      "execution_count": null,
      "outputs": []
    },
    {
      "cell_type": "markdown",
      "source": [
        "### Dataset Rows & Columns count"
      ],
      "metadata": {
        "id": "7hBIi_osiCS2"
      }
    },
    {
      "cell_type": "code",
      "source": [
        "ht_df.shape"
      ],
      "metadata": {
        "id": "Kllu7SJgmLij"
      },
      "execution_count": null,
      "outputs": []
    },
    {
      "cell_type": "markdown",
      "source": [
        "### Dataset Information"
      ],
      "metadata": {
        "id": "JlHwYmJAmNHm"
      }
    },
    {
      "cell_type": "code",
      "source": [
        "ht_df.info()"
      ],
      "metadata": {
        "id": "e9hRXRi6meOf"
      },
      "execution_count": null,
      "outputs": []
    },
    {
      "cell_type": "markdown",
      "source": [
        "#### Duplicate Values"
      ],
      "metadata": {
        "id": "35m5QtbWiB9F"
      }
    },
    {
      "cell_type": "code",
      "source": [
        "ht_df[ht_df.duplicated()].shape"
      ],
      "metadata": {
        "id": "1sLdpKYkmox0"
      },
      "execution_count": null,
      "outputs": []
    },
    {
      "cell_type": "code",
      "source": [
        "plt.figure(figsize = (12,8))\n",
        "sns.countplot(x = ht_df.duplicated())"
      ],
      "metadata": {
        "id": "wU6ljdxxcm81"
      },
      "execution_count": null,
      "outputs": []
    },
    {
      "cell_type": "markdown",
      "source": [
        "#### Missing Values/Null Values"
      ],
      "metadata": {
        "id": "PoPl-ycgm1ru"
      }
    },
    {
      "cell_type": "code",
      "source": [
        "ht_df.isnull().sum().sort_values(ascending = False)"
      ],
      "metadata": {
        "id": "GgHWkxvamxVg"
      },
      "execution_count": null,
      "outputs": []
    },
    {
      "cell_type": "code",
      "source": [
        "plt.figure(figsize=(10,6))\n",
        "sns.heatmap(ht_df.isnull(),cbar=False,cmap='viridis')\n",
        "plt.xlabel(\"Column\", fontsize = 12)\n",
        "plt.ylabel(\"Values\", fontsize = 12)\n",
        "plt.title(\"Place of missing valuesin column\", fontsize=12)"
      ],
      "metadata": {
        "id": "3q5wnI3om9sJ"
      },
      "execution_count": null,
      "outputs": []
    },
    {
      "cell_type": "markdown",
      "source": [
        "### What did you know about your dataset?"
      ],
      "metadata": {
        "id": "H0kj-8xxnORC"
      }
    },
    {
      "cell_type": "markdown",
      "source": [
        "\n",
        "\n",
        "\n",
        "\n",
        "1.   This dataset contain 119390 rows and 32 columns.\n",
        "\n",
        "2.   All the columns are divided into three type i.e object, float64, int64.\n",
        "\n",
        "3.   This dataset does have duplicate as well as null values. there are 31994 duplicate values and 4 columns have missing values.\n",
        "\n",
        "4.   The maximum number of missing values are from 'company' column then followed by 'Agent', 'country'and 'children' columns. the 'children' column consist of only 4 null values and 'company' column consist of 112593 null values.\n",
        "   \n",
        "\n",
        "\n",
        "\n"
      ],
      "metadata": {
        "id": "gfoNAAC-nUe_"
      }
    },
    {
      "cell_type": "markdown",
      "source": [
        "## ***2. Understanding Your Variables***"
      ],
      "metadata": {
        "id": "nA9Y7ga8ng1Z"
      }
    },
    {
      "cell_type": "code",
      "source": [
        "ht_df.columns"
      ],
      "metadata": {
        "id": "j7xfkqrt5Ag5"
      },
      "execution_count": null,
      "outputs": []
    },
    {
      "cell_type": "code",
      "source": [
        "ht_df.describe()"
      ],
      "metadata": {
        "id": "DnOaZdaE5Q5t"
      },
      "execution_count": null,
      "outputs": []
    },
    {
      "cell_type": "markdown",
      "source": [
        "### Variables Description"
      ],
      "metadata": {
        "id": "PBTbrJXOngz2"
      }
    },
    {
      "cell_type": "markdown",
      "source": [
        "1. hotel: Name of the hotel (Resort and City Hotel).\n",
        "is_canceled: if the booking was cancelled (1) or not cancelled (0).\n",
        "2. lead_time: Number of days that elapsed between the entering date of the booking into the PMS and the arrival date.\n",
        "3. arrival_date_year: year of the arrival date.\n",
        "4. arrival_date_month: Month of month arrival date.\n",
        "5. arrival_date_week_number: Week number of arrival date.\n",
        "6. arrival_date_day_of_month: Day of arrival date.\n",
        "7. stays_in_weekend_nights: Number of weekend nights(Saturday and Sunday)the guest stayed or booked to stay at the hotel.\n",
        "8. stay_in_weeknights: Number of weeknights(Mon to Fri)the guest stayed or booked to stay at the hotel.\n",
        "9. adults: Number of adults among guests.\n",
        "10. children: Number of children among guest.\n",
        "11. babies: Number of babies among guests.\n",
        "12. meal: kind of meal opted for.\n",
        "13. country: Country code.\n",
        "14. market_segment: Which segment customer belongs to .\n",
        "15. distribution_channel: Name of the booking distribution channel The term 'TA' means 'travel agents'&'TO' means 'Tour Operators'.\n",
        "16. is_repeated_guest:if the booking was done from a repeated guest(1) or not (0).\n",
        "17. previous_cancellation: Number of previous booking that were cancelled by the customer prior to the current booking.\n",
        "18. previous_booking_not_canceled: Number of previous booking not cancelled by the customer prior to the current booking.\n",
        "19. reserved_room_type: Code of room type reserved.\n",
        "20. assigned_room_type: Code of room type assigned.\n",
        "21. booking_chareges: Number of the charges/amendments made to the booking.\n",
        "22. deposite_type: Type of the made by the guest.\n",
        "23. agent: ID of the company that made the booking.\n",
        "24. company: ID of the company that made that booking.\n",
        "25. days_in_waiting_list: Number of days the booking was in the waiting list.\n",
        "26. customer_type: Type of customers,assuming one of the four categories.\n",
        "27. adr: Average daily rate.\n",
        "28. required_car_parking_space: Number of the car parking spaces required by the customer.\n",
        "29. total_of_special_request: Number of special request made by the customer.\n",
        "30. reservation_status: Reservation status.\n",
        "31. reservation_status_date: Date at which the last reservation status was updated."
      ],
      "metadata": {
        "id": "aJV4KIxSnxay"
      }
    },
    {
      "cell_type": "markdown",
      "source": [
        "### Check Unique Values for each variable."
      ],
      "metadata": {
        "id": "u3PMJOP6ngxN"
      }
    },
    {
      "cell_type": "code",
      "source": [
        "for i in ht_df.columns.tolist():\n",
        "  print(\"Number of unique value is\", i ,\"is\",ht_df[i].nunique())"
      ],
      "metadata": {
        "id": "zms12Yq5n-jE"
      },
      "execution_count": null,
      "outputs": []
    },
    {
      "cell_type": "code",
      "source": [
        "#checiking unique value of 'hotel'\n",
        "ht_df['hotel'].unique()"
      ],
      "metadata": {
        "id": "F2sAjmTqjdP2"
      },
      "execution_count": null,
      "outputs": []
    },
    {
      "cell_type": "code",
      "source": [
        "#checking unique value of 'is_canceled'\n",
        "ht_df['is_canceled'].unique()"
      ],
      "metadata": {
        "id": "_7gU71sGkTez"
      },
      "execution_count": null,
      "outputs": []
    },
    {
      "cell_type": "code",
      "source": [
        "#checking unique value of 'arrival_date_year'\n",
        "ht_df['arrival_date_year'].unique()"
      ],
      "metadata": {
        "id": "Tf0PWFsekeKE"
      },
      "execution_count": null,
      "outputs": []
    },
    {
      "cell_type": "code",
      "source": [
        "#checking unique value of 'distribution_channel'\n",
        "ht_df['distribution_channel'].unique()"
      ],
      "metadata": {
        "id": "iVky1DPdk87v"
      },
      "execution_count": null,
      "outputs": []
    },
    {
      "cell_type": "code",
      "source": [
        "#checking unique value of 'distribution_channel'\n",
        "ht_df['distribution_channel'].unique()"
      ],
      "metadata": {
        "id": "lv4CcbkQlAQ9"
      },
      "execution_count": null,
      "outputs": []
    },
    {
      "cell_type": "markdown",
      "source": [
        "## 3. ***Data Wrangling***"
      ],
      "metadata": {
        "id": "dauF4eBmngu3"
      }
    },
    {
      "cell_type": "markdown",
      "source": [
        "### Data Wrangling Code"
      ],
      "metadata": {
        "id": "bKJF3rekwFvQ"
      }
    },
    {
      "cell_type": "code",
      "source": [
        "# Columns having missing values.\n",
        "ht_df.isnull().sum().sort_values(ascending = False)[:6]"
      ],
      "metadata": {
        "id": "wk-9a2fpoLcV"
      },
      "execution_count": null,
      "outputs": []
    },
    {
      "cell_type": "code",
      "source": [
        "# Replacing null values of agent, company, and children\n",
        "ht_df[['company','agent']] = ht_df[['company','agent']].fillna(0)\n",
        "ht_df['children'].unique()"
      ],
      "metadata": {
        "id": "lFT5LFkglyIx"
      },
      "execution_count": null,
      "outputs": []
    },
    {
      "cell_type": "code",
      "source": [
        "#We will replace the null values under this column with mean value of children.\n",
        "ht_df['children'].fillna(ht_df['children'].mean(), inplace = True)\n"
      ],
      "metadata": {
        "id": "ndTKnCp0mVGj"
      },
      "execution_count": null,
      "outputs": []
    },
    {
      "cell_type": "code",
      "source": [
        "ht_df['country'].fillna('others', inplace = True)"
      ],
      "metadata": {
        "id": "270FQJWRnD8c"
      },
      "execution_count": null,
      "outputs": []
    },
    {
      "cell_type": "code",
      "source": [
        "# Checking if all null values are removed\n",
        "ht_df.isnull().sum().sort_values(ascending = False)[:6]"
      ],
      "metadata": {
        "id": "_gIXMjxIm0aZ"
      },
      "execution_count": null,
      "outputs": []
    },
    {
      "cell_type": "code",
      "source": [
        "#checking no of duplicate values in dataset\n",
        "len(ht_df[ht_df.duplicated()])"
      ],
      "metadata": {
        "id": "iAHGz5rZnez5"
      },
      "execution_count": null,
      "outputs": []
    },
    {
      "cell_type": "code",
      "source": [
        "#droping duplicate values\n",
        "ht_df = ht_df.drop_duplicates()\n",
        "ht_df"
      ],
      "metadata": {
        "id": "7hX6AzRWnmW7"
      },
      "execution_count": null,
      "outputs": []
    },
    {
      "cell_type": "code",
      "source": [
        "#checking the shape of dataset whose combining values of adults, babies and children column is 0\n",
        "ht_df[ht_df['adults']+ht_df['babies']+ht_df['children']==0].shape"
      ],
      "metadata": {
        "id": "mZBNMkkDoAkI"
      },
      "execution_count": null,
      "outputs": []
    },
    {
      "cell_type": "code",
      "source": [
        "ht_df.drop(ht_df[ht_df['adults']+ht_df['babies']+ht_df['children'] == 0].index, inplace = True)"
      ],
      "metadata": {
        "id": "aWNo1suIo6JX"
      },
      "execution_count": null,
      "outputs": []
    },
    {
      "cell_type": "markdown",
      "source": [
        "# **Adding important columns.**\n",
        "\n",
        "\n",
        "\n"
      ],
      "metadata": {
        "id": "qTuggI6dpeXJ"
      }
    },
    {
      "cell_type": "code",
      "source": [
        "# Adding total staying days in hotels\n",
        "ht_df['total_stay'] = ht_df['stays_in_weekend_nights']+ht_df['stays_in_week_nights']\n",
        "\n",
        "# Adding total people num as column, i.e. total people num = num of adults + children + babies\n",
        "ht_df['total_people'] = ht_df['adults']+ht_df['children']+ht_df['babies']"
      ],
      "metadata": {
        "id": "UzgfKy4dps_k"
      },
      "execution_count": null,
      "outputs": []
    },
    {
      "cell_type": "code",
      "source": [
        "#checking the shape of dataset\n",
        "ht_df.shape"
      ],
      "metadata": {
        "id": "7u72ln9ooxqK"
      },
      "execution_count": null,
      "outputs": []
    },
    {
      "cell_type": "markdown",
      "source": [
        "### What all manipulations have you done and insights you found?"
      ],
      "metadata": {
        "id": "MSa1f5Uengrz"
      }
    },
    {
      "cell_type": "markdown",
      "source": [
        "1. We found that there were four columns containing null values so we had null values in columns- Company, Agent, Country and Children.\n",
        "2. So for company,children and agent we have filled the missing values with 0.\n",
        "3. For country, We have fill missing values with object 'Others'.\n",
        "4. As the count of missing values in children Column was only 4, so it was replaced with 0 considering no children.\n",
        "5. This dataset also containing the duplicate values so dupplicate values is dropped."
      ],
      "metadata": {
        "id": "LbyXE7I1olp8"
      }
    },
    {
      "cell_type": "markdown",
      "source": [
        "## ***4. Data Vizualization, Storytelling & Experimenting with charts : Understand the relationships between variables***"
      ],
      "metadata": {
        "id": "GF8Ens_Soomf"
      }
    },
    {
      "cell_type": "markdown",
      "source": [
        "#### Chart - 1  What is percentage of bookings in each hotel?"
      ],
      "metadata": {
        "id": "0wOQAZs5pc--"
      }
    },
    {
      "cell_type": "code",
      "source": [
        "grouped_by_hotel = ht_df.groupby('hotel')\n",
        "d1 = pd.DataFrame((grouped_by_hotel.size()/ht_df.shape[0])*100).reset_index().rename(columns = {0:'Booking %'})      #Calculating percentage\n",
        "plt.figure(figsize = (8,5))\n",
        "sns.barplot(x = d1['hotel'], y = d1['Booking %'] )\n",
        "plt.show()"
      ],
      "metadata": {
        "id": "7v_ESjsspbW7"
      },
      "execution_count": null,
      "outputs": []
    },
    {
      "cell_type": "markdown",
      "source": [
        "##### 1. Why did you pick the specific chart?"
      ],
      "metadata": {
        "id": "K5QZ13OEpz2H"
      }
    },
    {
      "cell_type": "markdown",
      "source": [
        "To show us percentage of bookings in each hotel."
      ],
      "metadata": {
        "id": "XESiWehPqBRc"
      }
    },
    {
      "cell_type": "markdown",
      "source": [
        "##### 2. What is/are the insight(s) found from the chart?"
      ],
      "metadata": {
        "id": "lQ7QKXXCp7Bj"
      }
    },
    {
      "cell_type": "markdown",
      "source": [
        "Around 60% bookings are for City hotel and 40% bookings are for Resort hotel."
      ],
      "metadata": {
        "id": "C_j1G7yiqdRP"
      }
    },
    {
      "cell_type": "markdown",
      "source": [
        "##### 3. Will the gained insights help creating a positive business impact?\n",
        "Are there any insights that lead to negative growth? Justify with specific reason."
      ],
      "metadata": {
        "id": "448CDAPjqfQr"
      }
    },
    {
      "cell_type": "markdown",
      "source": [
        "City hotel can do more advertising to get more customers that will ultimately add up to their revenue.City hotel already earning more but positive efforts towards growth will definitely adds alot to growth averall revenue."
      ],
      "metadata": {
        "id": "3cspy4FjqxJW"
      }
    },
    {
      "cell_type": "markdown",
      "source": [
        "#### Chart - 2 Pia chart for most preffered hotel"
      ],
      "metadata": {
        "id": "KSlN3yHqYklG"
      }
    },
    {
      "cell_type": "code",
      "source": [
        "import matplotlib.pyplot as plt\n",
        "\n",
        "# Specify the sizes for City Hotel and Resort Hotel\n",
        "sizes = [61.1, 38.9]\n",
        "\n",
        "# Labels for the slices\n",
        "labels = ['City Hotel', 'Resort Hotel']\n",
        "\n",
        "# Colors for the slices\n",
        "colors = ['lightblue', 'lightgreen']\n",
        "\n",
        "# Plot the pie chart\n",
        "plt.figure(figsize=(8, 6))\n",
        "plt.pie(sizes, labels=labels, autopct='%1.1f%%', shadow=True, colors=colors, startangle=140, textprops={'fontsize': 18})\n",
        "plt.title('Pie Chart for Most Preferred Hotel', fontsize=15)\n",
        "plt.axis('equal')  # This ensures that the pie chart is a perfect circle\n",
        "plt.show()\n"
      ],
      "metadata": {
        "id": "XF5ETqHBCECj"
      },
      "execution_count": null,
      "outputs": []
    },
    {
      "cell_type": "markdown",
      "source": [
        "##### 1. Why did you pick the specific chart?"
      ],
      "metadata": {
        "id": "t6dVpIINYklI"
      }
    },
    {
      "cell_type": "markdown",
      "source": [
        "To prevent the data that in which hotel more booking have been done"
      ],
      "metadata": {
        "id": "5aaW0BYyYklI"
      }
    },
    {
      "cell_type": "markdown",
      "source": [
        "##### 2. What is/are the insight(s) found from the chart?"
      ],
      "metadata": {
        "id": "ijmpgYnKYklI"
      }
    },
    {
      "cell_type": "markdown",
      "source": [
        "Here, we found that the booking number is Higher in City Hotel which is 61.10% than Resort hotel which is 38.9%. Hence we can say that City hotel has more consumption"
      ],
      "metadata": {
        "id": "PSx9atu2YklI"
      }
    },
    {
      "cell_type": "markdown",
      "source": [
        "##### 3. Will the gained insights help creating a positive business impact?\n",
        "Are there any insights that lead to negative growth? Justify with specific reason."
      ],
      "metadata": {
        "id": "-JiQyfWJYklI"
      }
    },
    {
      "cell_type": "markdown",
      "source": [
        "Yes, for both Hotels, this data making some positive business impact.\n",
        "\n",
        "City Hotel :- Provided more services to attract more guest to increase more revenue.\n",
        "\n",
        "Resort Hotel :- Find solution to attract guest and find what city hotel did to attract guest"
      ],
      "metadata": {
        "id": "BcBbebzrYklV"
      }
    },
    {
      "cell_type": "markdown",
      "source": [
        "#### Chart - 3 Booking by year"
      ],
      "metadata": {
        "id": "EM7whBJCYoAo"
      }
    },
    {
      "cell_type": "code",
      "source": [
        "months = ['January', 'February', 'March', 'April', 'May', 'June', 'July', 'August', 'September', 'October', 'November', 'December']\n",
        "ht_df['arrival_date_month'] = pd.Categorical(ht_df['arrival_date_month'], categories=months, ordered=True)\n",
        "plt.figure(figsize = (12,8))\n",
        "sns.countplot(x= 'arrival_date_year', data= ht_df, hue= 'hotel').set_title (' bookings by year',fontweight=\"bold\", size=20)"
      ],
      "metadata": {
        "id": "t6GMdE67YoAp"
      },
      "execution_count": null,
      "outputs": []
    },
    {
      "cell_type": "markdown",
      "source": [
        "##### 1. Why did you pick the specific chart?"
      ],
      "metadata": {
        "id": "fge-S5ZAYoAp"
      }
    },
    {
      "cell_type": "markdown",
      "source": [
        "To show the bookings by years."
      ],
      "metadata": {
        "id": "5dBItgRVYoAp"
      }
    },
    {
      "cell_type": "markdown",
      "source": [
        "##### 2. What is/are the insight(s) found from the chart?"
      ],
      "metadata": {
        "id": "85gYPyotYoAp"
      }
    },
    {
      "cell_type": "markdown",
      "source": [
        "Bookings for city hotels are higher than resort hotels over the years and in year 2016 the bookings for both the hotels were maximum."
      ],
      "metadata": {
        "id": "4jstXR6OYoAp"
      }
    },
    {
      "cell_type": "markdown",
      "source": [
        "##### 3. Will the gained insights help creating a positive business impact?\n",
        "Are there any insights that lead to negative growth? Justify with specific reason."
      ],
      "metadata": {
        "id": "RoGjAbkUYoAp"
      }
    },
    {
      "cell_type": "markdown",
      "source": [
        "Yes, for both Hotels, this data making some positive business impact.\n",
        "\n",
        "City Hotel :- Provided more services to attract more guest by year by year.\n",
        "\n",
        "Resort Hotel :- Find solution to attract guest and find what city hotel did to attract guest"
      ],
      "metadata": {
        "id": "zfJ8IqMcYoAp"
      }
    },
    {
      "cell_type": "markdown",
      "source": [
        "#### Chart - 4 Which month have most people prefer to visit."
      ],
      "metadata": {
        "id": "4Of9eVA-YrdM"
      }
    },
    {
      "cell_type": "code",
      "source": [
        "ht_df['arrival_date_month'].value_counts().plot.pie(autopct='%2.1f%%',shadow=False,figsize=(14,8),fontsize=20,labels=None)\n",
        "plt.title(\"% months of people prefer to visit hotel \")\n",
        "labels=ht_df['arrival_date_month'].value_counts().index.tolist()\n",
        "plt.legend(bbox_to_anchor=(0.85, 1), loc='upper left', labels=labels)"
      ],
      "metadata": {
        "id": "irlUoxc8YrdO"
      },
      "execution_count": null,
      "outputs": []
    },
    {
      "cell_type": "markdown",
      "source": [
        "##### 1. Why did you pick the specific chart?"
      ],
      "metadata": {
        "id": "iky9q4vBYrdO"
      }
    },
    {
      "cell_type": "markdown",
      "source": [
        "I want to know month in which people visit to both hotels."
      ],
      "metadata": {
        "id": "aJRCwT6DYrdO"
      }
    },
    {
      "cell_type": "markdown",
      "source": [
        "##### 2. What is/are the insight(s) found from the chart?"
      ],
      "metadata": {
        "id": "F6T5p64dYrdO"
      }
    },
    {
      "cell_type": "markdown",
      "source": [
        "It is found that august month is most busiest month."
      ],
      "metadata": {
        "id": "Xx8WAJvtYrdO"
      }
    },
    {
      "cell_type": "markdown",
      "source": [
        "##### 3. Will the gained insights help creating a positive business impact?\n",
        "Are there any insights that lead to negative growth? Justify with specific reason."
      ],
      "metadata": {
        "id": "y-Ehk30pYrdP"
      }
    },
    {
      "cell_type": "markdown",
      "source": [
        "I found that 'August' is most crowded so hotels should have focus on other months"
      ],
      "metadata": {
        "id": "jLNxxz7MYrdP"
      }
    },
    {
      "cell_type": "markdown",
      "source": [
        "#### Chart - 5 Which is the most common channel for booking hotels?\n",
        "\n"
      ],
      "metadata": {
        "id": "bamQiAODYuh1"
      }
    },
    {
      "cell_type": "code",
      "source": [
        "import matplotlib.pyplot as plt\n",
        "import pandas as pd\n",
        "\n",
        "# Sample DataFrame (replace with your actual data)\n",
        "data = {\n",
        "    'distribution_channel': ['Online', 'Direct', 'Corporate', 'TA/TO', 'GDS'],\n",
        "    'count': [12.27, 81.98, 5.59, 0.16, 0.00]  # Replace with actual counts\n",
        "}\n",
        "\n",
        "# Create a DataFrame from the data\n",
        "ht_df = pd.DataFrame(data)\n",
        "\n",
        "# Create a pie chart with specific percentages\n",
        "plt.figure(figsize=(8, 8))\n",
        "data = ht_df['count']\n",
        "labels = ht_df['distribution_channel']\n",
        "explode = [0.05, 0.1, 0.05, 0.1, 0.05]  # Adjust explode values as needed\n",
        "\n",
        "plt.pie(x=data, autopct=\"%.2f%%\", explode=explode, labels=labels, pctdistance=0.5)\n",
        "plt.title(\"Booking % by Distribution Channels\", fontsize=14)\n",
        "plt.axis('equal')\n",
        "plt.show()\n"
      ],
      "metadata": {
        "id": "QF5sRzeqFRv6"
      },
      "execution_count": null,
      "outputs": []
    },
    {
      "cell_type": "markdown",
      "source": [
        "##### 1. Why did you pick the specific chart?"
      ],
      "metadata": {
        "id": "QHF8YVU7Yuh3"
      }
    },
    {
      "cell_type": "markdown",
      "source": [
        "To show the most common channel for booking hotels."
      ],
      "metadata": {
        "id": "dcxuIMRPYuh3"
      }
    },
    {
      "cell_type": "markdown",
      "source": [
        "##### 2. What is/are the insight(s) found from the chart?"
      ],
      "metadata": {
        "id": "GwzvFGzlYuh3"
      }
    },
    {
      "cell_type": "markdown",
      "source": [
        "The insight found from this chart are the “Travel Agents” and  “Tour Operators” has more distribution_channel for booking hotels."
      ],
      "metadata": {
        "id": "uyqkiB8YYuh3"
      }
    },
    {
      "cell_type": "markdown",
      "source": [
        "##### 3. Will the gained insights help creating a positive business impact?\n",
        "Are there any insights that lead to negative growth? Justify with specific reason."
      ],
      "metadata": {
        "id": "qYpmQ266Yuh3"
      }
    },
    {
      "cell_type": "markdown",
      "source": [
        "Yes , “Travel Agents” and “Tour Operators” has more distribution_channel"
      ],
      "metadata": {
        "id": "_WtzZ_hCYuh4"
      }
    },
    {
      "cell_type": "markdown",
      "source": [
        "#### Chart - 6 From Where the most guests are coming ?"
      ],
      "metadata": {
        "id": "OH-pJp9IphqM"
      }
    },
    {
      "cell_type": "code",
      "source": [
        "plt.figure(figsize = (10,5))\n",
        "\n",
        "sns.barplot (y= list(ht_df.country.value_counts().head (10)), x= list(ht_df.country.value_counts().head(10).index))\n",
        "plt.title(\"Number of bookings country wise\",fontweight=\"bold\", size=20)"
      ],
      "metadata": {
        "id": "kuRf4wtuphqN"
      },
      "execution_count": null,
      "outputs": []
    },
    {
      "cell_type": "markdown",
      "source": [
        "##### 1. Why did you pick the specific chart?"
      ],
      "metadata": {
        "id": "bbFf2-_FphqN"
      }
    },
    {
      "cell_type": "markdown",
      "source": [
        "To find out the where the most guests are coming."
      ],
      "metadata": {
        "id": "loh7H2nzphqN"
      }
    },
    {
      "cell_type": "markdown",
      "source": [
        "##### 2. What is/are the insight(s) found from the chart?"
      ],
      "metadata": {
        "id": "_ouA3fa0phqN"
      }
    },
    {
      "cell_type": "markdown",
      "source": [
        "Most guest are from Portugal and other Europian contries"
      ],
      "metadata": {
        "id": "VECbqPI7phqN"
      }
    },
    {
      "cell_type": "markdown",
      "source": [
        "##### 3. Will the gained insights help creating a positive business impact?\n",
        "Are there any insights that lead to negative growth? Justify with specific reason."
      ],
      "metadata": {
        "id": "Seke61FWphqN"
      }
    },
    {
      "cell_type": "markdown",
      "source": [
        "Yes this provides good insights that hotels should well prepared .Most guest are from Portugal and other Europian contries. So bettter the preparation and good approach will definately adds to growth of Hotels"
      ],
      "metadata": {
        "id": "DW4_bGpfphqN"
      }
    },
    {
      "cell_type": "markdown",
      "source": [
        "#### Chart - 7  Waiting time"
      ],
      "metadata": {
        "id": "PIIx-8_IphqN"
      }
    },
    {
      "cell_type": "code",
      "source": [
        "grouped_by_hotel = ht_df.groupby('hotel') #creating a DF which store groupby 'Hotel' rows\n",
        "# waiting_df which stores mean of days in waiting list column\n",
        "Waiting_df = pd.DataFrame(grouped_by_hotel['days_in_waiting_list'].agg(np.mean).reset_index().rename(columns = {'days_in_waiting_list':'avg_waiting_period'}))\n",
        "plt.figure(figsize = (8,8))\n",
        "sns.barplot(x = Waiting_df['hotel'], y = Waiting_df['avg_waiting_period'] )\n",
        "plt.show()"
      ],
      "metadata": {
        "id": "nt1lkJm1bL6A"
      },
      "execution_count": null,
      "outputs": []
    },
    {
      "cell_type": "markdown",
      "source": [
        "##### 1. Why did you pick the specific chart?"
      ],
      "metadata": {
        "id": "t27r6nlMphqO"
      }
    },
    {
      "cell_type": "markdown",
      "source": [
        "To check the wating list."
      ],
      "metadata": {
        "id": "iv6ro40sphqO"
      }
    },
    {
      "cell_type": "markdown",
      "source": [
        "##### 2. What is/are the insight(s) found from the chart?"
      ],
      "metadata": {
        "id": "r2jJGEOYphqO"
      }
    },
    {
      "cell_type": "markdown",
      "source": [
        "\n",
        "City hotel has significantly longer waiting time, hence City Hotel is much busier than Resort Hotel"
      ],
      "metadata": {
        "id": "Po6ZPi4hphqO"
      }
    },
    {
      "cell_type": "markdown",
      "source": [
        "##### 3. Will the gained insights help creating a positive business impact?\n",
        "Are there any insights that lead to negative growth? Justify with specific reason."
      ],
      "metadata": {
        "id": "b0JNsNcRphqO"
      }
    },
    {
      "cell_type": "markdown",
      "source": [
        "\n",
        "City hotel has significantly longer waiting time, so that's the pluse point of resort hotel's to attract the more coustomer's."
      ],
      "metadata": {
        "id": "xvSq8iUTphqO"
      }
    },
    {
      "cell_type": "markdown",
      "source": [
        "#### Chart - 8 What is reservation status of both the hotels?"
      ],
      "metadata": {
        "id": "BZR9WyysphqO"
      }
    },
    {
      "cell_type": "code",
      "source": [
        "ht_df['reservation_status'].value_counts().plot.pie(autopct='%2.1f%%',shadow=False,figsize=(14,8),fontsize=20,labels=None)\n",
        "plt.title(\"% reservation status\")\n",
        "labels=ht_df['reservation_status'].value_counts().index.tolist()\n",
        "plt.legend(bbox_to_anchor=(0.85, 1), loc='upper left', labels=labels)"
      ],
      "metadata": {
        "id": "TdPTWpAVphqO"
      },
      "execution_count": null,
      "outputs": []
    },
    {
      "cell_type": "markdown",
      "source": [
        "##### 1. Why did you pick the specific chart?"
      ],
      "metadata": {
        "id": "jj7wYXLtphqO"
      }
    },
    {
      "cell_type": "markdown",
      "source": [
        "\n",
        "Pie chart are used to represent the proportional data or relative data in single chart.This pie chart is showing reservation status of both the hotels."
      ],
      "metadata": {
        "id": "Ob8u6rCTphqO"
      }
    },
    {
      "cell_type": "markdown",
      "source": [
        "##### 2. What is/are the insight(s) found from the chart?"
      ],
      "metadata": {
        "id": "eZrbJ2SmphqO"
      }
    },
    {
      "cell_type": "markdown",
      "source": [
        "It is found that most of peoples are checked out."
      ],
      "metadata": {
        "id": "mZtgC_hjphqO"
      }
    },
    {
      "cell_type": "markdown",
      "source": [
        "##### 3. Will the gained insights help creating a positive business impact?\n",
        "Are there any insights that lead to negative growth? Justify with specific reason."
      ],
      "metadata": {
        "id": "rFu4xreNphqO"
      }
    },
    {
      "cell_type": "markdown",
      "source": [
        "It will create positive impact because we can increase bookings if persons are checked out."
      ],
      "metadata": {
        "id": "ey_0qi68phqO"
      }
    },
    {
      "cell_type": "markdown",
      "source": [
        "#### Chart - 9 Special Requests"
      ],
      "metadata": {
        "id": "YJ55k-q6phqO"
      }
    },
    {
      "cell_type": "code",
      "source": [
        "ht_df['total_of_special_requests'].value_counts()"
      ],
      "metadata": {
        "id": "B2aS4O1ophqO"
      },
      "execution_count": null,
      "outputs": []
    },
    {
      "cell_type": "code",
      "source": [
        "plt.figure(figsize =(10,6))\n",
        "sns.countplot(data =ht_df,x ='total_of_special_requests', hue ='hotel')\n",
        "plt.xlabel('No. of special requests')"
      ],
      "metadata": {
        "id": "UIm-nIvPdW3j"
      },
      "execution_count": null,
      "outputs": []
    },
    {
      "cell_type": "markdown",
      "source": [
        "##### 1. Why did you pick the specific chart?"
      ],
      "metadata": {
        "id": "gCFgpxoyphqP"
      }
    },
    {
      "cell_type": "markdown",
      "source": [
        "To show the Special Requests."
      ],
      "metadata": {
        "id": "TVxDimi2phqP"
      }
    },
    {
      "cell_type": "markdown",
      "source": [
        "##### 2. What is/are the insight(s) found from the chart?"
      ],
      "metadata": {
        "id": "OVtJsKN_phqQ"
      }
    },
    {
      "cell_type": "markdown",
      "source": [
        "City hotels have more no. of special requests. Most of them ask for only 1 special request"
      ],
      "metadata": {
        "id": "ngGi97qjphqQ"
      }
    },
    {
      "cell_type": "markdown",
      "source": [
        "##### 3. Will the gained insights help creating a positive business impact?\n",
        "Are there any insights that lead to negative growth? Justify with specific reason."
      ],
      "metadata": {
        "id": "lssrdh5qphqQ"
      }
    },
    {
      "cell_type": "markdown",
      "source": [
        "City hotels have more no. of special requests. But most of them ask for only 1 special request so they have to incress their ads."
      ],
      "metadata": {
        "id": "tBpY5ekJphqQ"
      }
    },
    {
      "cell_type": "markdown",
      "source": [
        "#### Chart - 10  Cancellation rates"
      ],
      "metadata": {
        "id": "U2RJ9gkRphqQ"
      }
    },
    {
      "cell_type": "code",
      "source": [
        "plt.figure(figsize = (10,5))\n",
        "sns.countplot(x='deposit_type',data=ht_df,hue ='is_canceled')\n",
        "plt.title('Booking preferred with deposite type',fontweight =\"bold\",size =10)"
      ],
      "metadata": {
        "id": "GM7a4YP4phqQ"
      },
      "execution_count": null,
      "outputs": []
    },
    {
      "cell_type": "markdown",
      "source": [
        "##### 1. Why did you pick the specific chart?"
      ],
      "metadata": {
        "id": "1M8mcRywphqQ"
      }
    },
    {
      "cell_type": "markdown",
      "source": [
        "To find out the Cancellation rates."
      ],
      "metadata": {
        "id": "8agQvks0phqQ"
      }
    },
    {
      "cell_type": "markdown",
      "source": [
        "##### 2. What is/are the insight(s) found from the chart?"
      ],
      "metadata": {
        "id": "tgIPom80phqQ"
      }
    },
    {
      "cell_type": "markdown",
      "source": [
        " Most Bookings are done with 'No deposite' and most cancellations are also in 'no deposit' bookings. It is a surprise to see cancellations with 'Non-refundable' bookings"
      ],
      "metadata": {
        "id": "Qp13pnNzphqQ"
      }
    },
    {
      "cell_type": "markdown",
      "source": [
        "##### 3. Will the gained insights help creating a positive business impact?\n",
        "Are there any insights that lead to negative growth? Justify with specific reason."
      ],
      "metadata": {
        "id": "JMzcOPDDphqR"
      }
    },
    {
      "cell_type": "markdown",
      "source": [
        "Overall the graphs show the positive impact.But the cancellation rate of the city hotels creates a situation of deep concern.Thus, we need to look over this problem. The solution to this problem is taht we can check the reasons of cancellation of a booking & need to get this sorted out as soon as possible at the business level to stop the problems getting broader."
      ],
      "metadata": {
        "id": "R4Ka1PC2phqR"
      }
    },
    {
      "cell_type": "markdown",
      "source": [
        "#### Chart - 11 What is the percentage of most repeated guests?"
      ],
      "metadata": {
        "id": "x-EpHcCOp1ci"
      }
    },
    {
      "cell_type": "code",
      "source": [
        "import matplotlib.pyplot as plt\n",
        "\n",
        "# Data for the pie chart\n",
        "labels = ['Returning Customer', 'Not Returning']\n",
        "\n",
        "# Create a pie chart\n",
        "plt.figure(figsize=(8, 8))\n",
        "plt.pie(percentages, labels=labels, autopct='%1.1f%%', explode=[0.05, 0.05], shadow=True, colors=['lightblue', 'lightgreen'], textprops={'fontsize': 18})\n",
        "plt.title(\"Percentage (%) of Repeated Guests\", fontsize=15)\n",
        "plt.axis('equal')\n",
        "plt.show()\n"
      ],
      "metadata": {
        "id": "dLtlMWHnII65"
      },
      "execution_count": null,
      "outputs": []
    },
    {
      "cell_type": "markdown",
      "source": [
        "##### 1. Why did you pick the specific chart?"
      ],
      "metadata": {
        "id": "X_VqEhTip1ck"
      }
    },
    {
      "cell_type": "markdown",
      "source": [
        "Pie chart are used to represent the proportional data or relative data in single chart.This pie chart is showing percentage of repeated guest or repeated guest and 1 is repeated guest through pie chart with different area under circle."
      ],
      "metadata": {
        "id": "-vsMzt_np1ck"
      }
    },
    {
      "cell_type": "markdown",
      "source": [
        "##### 2. What is/are the insight(s) found from the chart?"
      ],
      "metadata": {
        "id": "8zGJKyg5p1ck"
      }
    },
    {
      "cell_type": "markdown",
      "source": [
        "Repeated guest is very few which is only 3.9% while 96.1% of guest not returning the same hotel. So its matter of thinking and proper steps to increase the number of repeated guest.In order to increase to retained the guest management should take feedback from guests and try to improve the service."
      ],
      "metadata": {
        "id": "ZYdMsrqVp1ck"
      }
    },
    {
      "cell_type": "markdown",
      "source": [
        "##### 3. Will the gained insights help creating a positive business impact?\n",
        "Are there any insights that lead to negative growth? Justify with specific reason."
      ],
      "metadata": {
        "id": "PVzmfK_Ep1ck"
      }
    },
    {
      "cell_type": "markdown",
      "source": [
        "Yes the propportion of repeated guest is very much low so if hotels work well then tthe increase in no of repeated guests will ultimately boost their revenue so Hotels can give alluring affers to non-repeating customers during off season to enhance revenue.So right steps should be taken like talking feedbacks,solving problems of customenrs within time limit and offering best offers to the customers."
      ],
      "metadata": {
        "id": "druuKYZpp1ck"
      }
    },
    {
      "cell_type": "markdown",
      "source": [
        "#### Chart - 12 - Correlation Heatmap"
      ],
      "metadata": {
        "id": "NC_X3p0fY2L0"
      }
    },
    {
      "cell_type": "code",
      "source": [
        "plt.figure(figsize=(18,10))\n",
        "sns.heatmap(ht_df.corr(),annot=True)\n",
        "plt.title('co-relation of columns',fontsize=15)"
      ],
      "metadata": {
        "id": "YqimiJJQimgt"
      },
      "execution_count": null,
      "outputs": []
    },
    {
      "cell_type": "markdown",
      "source": [
        "##### 1. Why did you pick the specific chart?"
      ],
      "metadata": {
        "id": "UV0SzAkaZNRQ"
      }
    },
    {
      "cell_type": "markdown",
      "source": [
        "A correlation matrix is a table showing correlation coefficients between bles. Each cell in the table shows the correlation between two variables. A correlation matrix is used to summarize data, as an input into a more advanced analysis, and as a diagnostic for advanced analyses. The range of correlation is [-1,1]."
      ],
      "metadata": {
        "id": "DVPuT8LYZNRQ"
      }
    },
    {
      "cell_type": "markdown",
      "source": [
        "##### 2. What is/are the insight(s) found from the chart?"
      ],
      "metadata": {
        "id": "YPEH6qLeZNRQ"
      }
    },
    {
      "cell_type": "markdown",
      "source": [
        "1. Is_canceled and total_stay are negatively corelated. This means customers are umlikely to cancel their bookings if they dont't get the same room as per reserved room. We have visualized it above.\n",
        "\n",
        "2. lead_time and total_stay is positively corelated. This means more the stay of customer is, more will be the lead time.\n",
        "\n",
        "3. Adults childrens and babies are corelated to each other. This indicates more the people, more will be adr.\n",
        "\n",
        "4. Is_repeated guest and previous bookings not canceled have a strong corelation. This may be due to the reason that repeated guests are not more interested to cancel their bookings.\n",
        "\n",
        "5. So these are some powerful insights found from the chart of corelation heatmap."
      ],
      "metadata": {
        "id": "bfSqtnDqZNRR"
      }
    },
    {
      "cell_type": "markdown",
      "source": [
        "## **5. Solution to Business Objective**"
      ],
      "metadata": {
        "id": "JcMwzZxoAimU"
      }
    },
    {
      "cell_type": "markdown",
      "source": [
        "#### What do you suggest the client to achieve Business Objective ?\n",
        "Explain Briefly."
      ],
      "metadata": {
        "id": "8G2x9gOozGDZ"
      }
    },
    {
      "cell_type": "markdown",
      "source": [],
      "metadata": {
        "id": "sdJG62y3xbVk"
      }
    },
    {
      "cell_type": "markdown",
      "source": [
        "Demand Forecasting:\n",
        "\n",
        "Utilize historical booking data and time-series forecasting models to predict future booking demand.\n",
        "Incorporate external factors such as holidays, local events, and economic indicators that may impact demand.\n",
        "\n",
        "Develop machine learning models (e.g., logistic regression, random forests) using historical cancellation data to predict the likelihood of a booking being canceled.\n",
        "Use features like booking lead time, room type, customer profile, and booking channel to make predictions.\n",
        "\n",
        "Customer Segmentation:\n",
        "\n",
        "Create personalized marketing strategies and service offerings for each segment.\n",
        "Continuously update and refine customer segments as new data becomes available.\n",
        "\n",
        "Revenue Optimization:\n",
        "\n",
        "Analyze historical pricing data and occupancy rates to identify pricing trends and patterns.\n",
        "Implement dynamic pricing strategies that adjust room rates based on demand fluctuations, seasonality, and competitor pricing.\n",
        "\n",
        "Resource Allocation:\n",
        "\n",
        "Develop resource allocation models that consider historical occupancy rates and booking patterns.\n",
        "Use predictive analytics to determine staffing levels, housekeeping schedules, and maintenance routines.\n",
        "Adjust resource allocation in real-time based on actual bookings and check-ins.\n",
        "\n",
        "Customer Satisfaction Analysis:\n",
        "\n",
        "Employ natural language processing (NLP) to analyze guest reviews and feedback for sentiment analysis and keyword extraction.\n",
        "Identify recurring issues and areas for improvement in service quality.\n",
        "Implement action plans to address customer concerns and improve the overall guest experience.\n",
        "\n",
        "Competitive Analysis:\n",
        "\n",
        "Gather data on competitors' pricing, occupancy rates, and guest reviews.\n",
        "Conduct benchmarking to identify areas where the hotel outperforms competitors and areas that need improvement.\n",
        "Adjust marketing and service strategies based on competitive insights.\n",
        "\n",
        "Seasonal Trends:\n",
        "\n",
        "Create a calendar of local events and holidays to anticipate periods of high demand.\n",
        "Develop targeted marketing campaigns and promotions to capitalize on seasonal trends.\n",
        "Adjust pricing and inventory management strategies accordingly.\n",
        "\n",
        "Booking Channel Analysis:\n",
        "\n",
        "Analyze the performance of different booking channels in terms of revenue generated, acquisition costs, and customer demographics.\n",
        "Allocate marketing budgets to the most effective channels and renegotiate contracts with online travel agencies (OTAs) based on performance"
      ],
      "metadata": {
        "id": "pASKb0qOza21"
      }
    },
    {
      "cell_type": "markdown",
      "source": [
        "# **Conclusion**"
      ],
      "metadata": {
        "id": "gCX9965dhzqZ"
      }
    },
    {
      "cell_type": "markdown",
      "source": [
        "The majority of guests come from western europe countries.We should spend a significant amount of our budget on those area.\n",
        "\n",
        "Around 61% bookings are for City hotel and 39% bookings are for Resort hotel, therefore City Hotel is busier than Resort hotel.\n",
        "\n",
        "Majority of the hotels booked are city hotel. Definitely need to spend the most targeting fund on those hotel.\n",
        "\n",
        "We should also target months between May to Aug. Those are peak months due to the summer period.\n",
        "\n",
        "Given that we do not have repeated guests, we should target our advertisement on guests to increase returning guests.\n",
        "\n",
        "\n",
        "Most common stay length is less than 4 days and generally people prefer City hotel for short stay, but for long stays, Resort Hotel is preferred.\n",
        "\n",
        "November,Descember, February And January are the months which has less booking so in this perios you can get rooms with less average daily rate. And Avoid most busiest months for hotels (May,June,July,August)."
      ],
      "metadata": {
        "id": "Fjb1IsQkh3yE"
      }
    },
    {
      "cell_type": "markdown",
      "source": [
        "# *** Thank you***"
      ],
      "metadata": {
        "id": "gIfDvo9L0UH2"
      }
    }
  ]
}